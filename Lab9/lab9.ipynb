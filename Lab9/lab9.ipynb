{
 "cells": [
  {
   "cell_type": "code",
   "execution_count": 1,
   "metadata": {},
   "outputs": [],
   "source": [
    "import numpy  as np\n",
    "import pandas as pd\n",
    "import matplotlib.pyplot as plt\n",
    "data = pd.read_csv('SBIN.NS.txt')"
   ]
  },
  {
   "cell_type": "code",
   "execution_count": 2,
   "metadata": {},
   "outputs": [
    {
     "data": {
      "text/html": [
       "<div>\n",
       "<style scoped>\n",
       "    .dataframe tbody tr th:only-of-type {\n",
       "        vertical-align: middle;\n",
       "    }\n",
       "\n",
       "    .dataframe tbody tr th {\n",
       "        vertical-align: top;\n",
       "    }\n",
       "\n",
       "    .dataframe thead th {\n",
       "        text-align: right;\n",
       "    }\n",
       "</style>\n",
       "<table border=\"1\" class=\"dataframe\">\n",
       "  <thead>\n",
       "    <tr style=\"text-align: right;\">\n",
       "      <th></th>\n",
       "      <th>Date</th>\n",
       "      <th>Open</th>\n",
       "      <th>High</th>\n",
       "      <th>Low</th>\n",
       "      <th>Close</th>\n",
       "      <th>Adj Close</th>\n",
       "      <th>Volume</th>\n",
       "    </tr>\n",
       "  </thead>\n",
       "  <tbody>\n",
       "    <tr>\n",
       "      <th>61</th>\n",
       "      <td>2020-09-24</td>\n",
       "      <td>181.100006</td>\n",
       "      <td>181.800003</td>\n",
       "      <td>175.500000</td>\n",
       "      <td>176.350006</td>\n",
       "      <td>176.350006</td>\n",
       "      <td>46114798</td>\n",
       "    </tr>\n",
       "    <tr>\n",
       "      <th>62</th>\n",
       "      <td>2020-09-25</td>\n",
       "      <td>179.000000</td>\n",
       "      <td>182.750000</td>\n",
       "      <td>176.149994</td>\n",
       "      <td>182.199997</td>\n",
       "      <td>182.199997</td>\n",
       "      <td>46550127</td>\n",
       "    </tr>\n",
       "    <tr>\n",
       "      <th>63</th>\n",
       "      <td>2020-09-28</td>\n",
       "      <td>184.000000</td>\n",
       "      <td>188.149994</td>\n",
       "      <td>183.350006</td>\n",
       "      <td>187.250000</td>\n",
       "      <td>187.250000</td>\n",
       "      <td>41921548</td>\n",
       "    </tr>\n",
       "    <tr>\n",
       "      <th>64</th>\n",
       "      <td>2020-09-29</td>\n",
       "      <td>188.500000</td>\n",
       "      <td>188.949997</td>\n",
       "      <td>183.250000</td>\n",
       "      <td>185.050003</td>\n",
       "      <td>185.050003</td>\n",
       "      <td>35688726</td>\n",
       "    </tr>\n",
       "    <tr>\n",
       "      <th>65</th>\n",
       "      <td>2020-09-30</td>\n",
       "      <td>185.050003</td>\n",
       "      <td>186.800003</td>\n",
       "      <td>182.399994</td>\n",
       "      <td>185.399994</td>\n",
       "      <td>185.399994</td>\n",
       "      <td>37641083</td>\n",
       "    </tr>\n",
       "  </tbody>\n",
       "</table>\n",
       "</div>"
      ],
      "text/plain": [
       "          Date        Open        High         Low       Close   Adj Close  \\\n",
       "61  2020-09-24  181.100006  181.800003  175.500000  176.350006  176.350006   \n",
       "62  2020-09-25  179.000000  182.750000  176.149994  182.199997  182.199997   \n",
       "63  2020-09-28  184.000000  188.149994  183.350006  187.250000  187.250000   \n",
       "64  2020-09-29  188.500000  188.949997  183.250000  185.050003  185.050003   \n",
       "65  2020-09-30  185.050003  186.800003  182.399994  185.399994  185.399994   \n",
       "\n",
       "      Volume  \n",
       "61  46114798  \n",
       "62  46550127  \n",
       "63  41921548  \n",
       "64  35688726  \n",
       "65  37641083  "
      ]
     },
     "execution_count": 2,
     "metadata": {},
     "output_type": "execute_result"
    }
   ],
   "source": [
    "data.tail()"
   ]
  },
  {
   "cell_type": "code",
   "execution_count": 3,
   "metadata": {
    "scrolled": true
   },
   "outputs": [
    {
     "name": "stdout",
     "output_type": "stream",
     "text": [
      "mu^ = 18.267498051173394\n",
      "sigma^ = 12.064316544851978\n",
      "95% confidence interval = ( 17.520,  19.015)\n"
     ]
    }
   ],
   "source": [
    "####################################\n",
    "##########   Question 1  ###########\n",
    "####################################\n",
    "\n",
    "\n",
    "def predict(prices, times, num_sims):\n",
    "    \n",
    "    if times[0] != 0:\n",
    "        times = [0] + list(times)\n",
    "    \n",
    "    prices = np.array(prices)\n",
    "    us = np.log(prices[1:]/prices[:-1]) \n",
    "    n = len(prices) - 1\n",
    "    Eu = sum(us)/float(n)\n",
    "    sigma2 = np.sum((us - Eu)**2)/(n-1)\n",
    "    sigma = np.sqrt(sigma2)\n",
    "    mu = Eu + sigma2/2.0\n",
    "    \n",
    "#     print(f'mu = {mu:.3e}\\t sigma^2 = {sigma2:.3e}')\n",
    "    \n",
    "    predictions = []\n",
    "    for _ in range(num_sims):\n",
    "        predictions.append([])\n",
    "        lS = prices[-1]\n",
    "        for i in range(1, len(times)):\n",
    "            dt = times[i] - times[i-1]\n",
    "            S = lS * np.exp((mu - sigma2/2)*dt + sigma*np.random.normal()*np.sqrt(dt))\n",
    "            predictions[-1].append(S)\n",
    "            lS = S\n",
    "    \n",
    "    return predictions\n",
    "\n",
    "    \n",
    "prices = data['Close'].to_numpy()\n",
    "T, N, M, K = 30, 300, 1000, 1.1*prices[-1]\n",
    "\n",
    "asian_prices = []\n",
    "for pred in predict(prices, np.linspace(0, T, N, endpoint=True), M):\n",
    "    asian_prices.append( max(K - sum(pred)/len(pred), 0.0) )\n",
    "\n",
    "asian_prices = np.array(asian_prices)\n",
    "muh = asian_prices.mean()\n",
    "sigh = asian_prices.std()\n",
    "print(f'mu^ = {muh}')\n",
    "print(f'sigma^ = {sigh}')\n",
    "print(f'95% confidence interval = ({muh - 1.96*sigh/np.sqrt(M): .3f}, {muh + 1.96*sigh/np.sqrt(M): .3f})')"
   ]
  },
  {
   "cell_type": "code",
   "execution_count": 5,
   "metadata": {},
   "outputs": [
    {
     "name": "stdout",
     "output_type": "stream",
     "text": [
      "mu^ = 18.74958432647338\n",
      "sigma^ = 6.369083329171708\n",
      "95% confidence interval = ( 18.355,  19.144)\n"
     ]
    }
   ],
   "source": [
    "####################################\n",
    "##########   Question 2  ###########\n",
    "####################################\n",
    "\n",
    "\n",
    "Y = []\n",
    "X = []\n",
    "# expectation of european option\n",
    "temp_sim = K - np.array(predict(prices, [0, T], M)).ravel()\n",
    "temp_sim[temp_sim < 0] = 0\n",
    "EX = temp_sim.mean()\n",
    "for pred in predict(prices, np.linspace(0, T, N), M):\n",
    "    y = max(K - sum(pred)/len(pred), 0.0)\n",
    "    x = max(K - pred[-1], 0)\n",
    "    Y.append(y)\n",
    "    X.append(x)\n",
    "\n",
    "X = np.array(X)\n",
    "Y = np.array(Y)\n",
    "b = np.sum((X-X.mean())*(Y-Y.mean()))/np.sum((X-X.mean())**2) \n",
    "\n",
    "Yb = np.array([Y[i] - b*(X[i] - EX) for i in range(len(X))])\n",
    "\n",
    "\n",
    "cv_muh = Yb.mean()\n",
    "cv_sigh = Yb.std()\n",
    "# print(f'mu^ = {Yb.mean()}  ; sigma^ = {Yb.std()}')\n",
    "print(f'mu^ = {cv_muh}')\n",
    "print(f'sigma^ = {cv_sigh}')\n",
    "print(f'95% confidence interval = ({cv_muh - 1.96*cv_sigh/np.sqrt(M): .3f}, {cv_muh + 1.96*cv_sigh/np.sqrt(M): .3f})')"
   ]
  }
 ],
 "metadata": {
  "kernelspec": {
   "display_name": "Python 3",
   "language": "python",
   "name": "python3"
  },
  "language_info": {
   "codemirror_mode": {
    "name": "ipython",
    "version": 3
   },
   "file_extension": ".py",
   "mimetype": "text/x-python",
   "name": "python",
   "nbconvert_exporter": "python",
   "pygments_lexer": "ipython3",
   "version": "3.8.5"
  }
 },
 "nbformat": 4,
 "nbformat_minor": 4
}
