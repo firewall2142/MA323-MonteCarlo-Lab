{
 "cells": [
  {
   "cell_type": "code",
   "execution_count": 41,
   "metadata": {},
   "outputs": [
    {
     "name": "stdout",
     "output_type": "stream",
     "text": [
      "| M\t| Im\t\t| Im^\t\t| Im 95% conf\t\t| Im^ 95% conf\t\t| ratio\t\t|\n",
      "---------------------------------------------------------------------------------------------------------\n",
      "|100\t| 1.9464\t| 2.0010\t| [1.8601,2.0328]\t| [1.9953,2.0067]\t| 15.0991\t|\n",
      "|1000\t| 2.0012\t| 2.0001\t| [1.9740,2.0284]\t| [1.9981,2.0022]\t| 13.1849\t|\n",
      "|10000\t| 1.9951\t| 1.9996\t| [1.9864,2.0038]\t| [1.9989,2.0003]\t| 13.1908\t|\n",
      "|100000\t| 1.9991\t| 1.9999\t| [1.9964,2.0018]\t| [1.9997,2.0001]\t| 13.4008\t|\n"
     ]
    }
   ],
   "source": [
    "import numpy as np\n",
    "\n",
    "\n",
    "print(\"| M\\t| Im\\t\\t| Im^\\t\\t| Im 95% conf\\t\\t| Im^ 95% conf\\t\\t| ratio\\t\\t|\")\n",
    "print(\"-\"*105)\n",
    "\n",
    "for M in [100, 1000, 10000, 100000]:\n",
    "    U = np.random.uniform(size=M)\n",
    "    Y = np.exp(np.sqrt(U))\n",
    "    Yh = (np.exp(np.sqrt(U)) + np.exp(np.sqrt(1-U)))/2\n",
    "\n",
    "    I = Y.mean()\n",
    "    sigma = Y.std()\n",
    "    conf_left  = I - 1.96*sigma/np.sqrt(M)\n",
    "    conf_right = I + 1.96*sigma/np.sqrt(M)\n",
    "\n",
    "    Ih = Yh.mean()\n",
    "    sigmah = Yh.std()\n",
    "    confh_left  = Ih - 1.96*sigmah/np.sqrt(M)\n",
    "    confh_right = Ih + 1.96*sigmah/np.sqrt(M)\n",
    "\n",
    "    ratio = (conf_right-conf_left)/(confh_right-confh_left)\n",
    "    \n",
    "    print(f\"|{M}\\t| {I:.4f}\\t| {Ih:.4f}\\t| [{conf_left:.4f},{conf_right:.4f}]\\t| [{confh_left:.4f},{confh_right:.4f}]\\t| {ratio:.4f}\\t|\")"
   ]
  },
  {
   "cell_type": "code",
   "execution_count": null,
   "metadata": {},
   "outputs": [],
   "source": []
  }
 ],
 "metadata": {
  "kernelspec": {
   "display_name": "Python 3",
   "language": "python",
   "name": "python3"
  },
  "language_info": {
   "codemirror_mode": {
    "name": "ipython",
    "version": 3
   },
   "file_extension": ".py",
   "mimetype": "text/x-python",
   "name": "python",
   "nbconvert_exporter": "python",
   "pygments_lexer": "ipython3",
   "version": "3.8.5"
  }
 },
 "nbformat": 4,
 "nbformat_minor": 4
}
