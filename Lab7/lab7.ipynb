{
 "cells": [
  {
   "cell_type": "code",
   "execution_count": 1,
   "metadata": {},
   "outputs": [],
   "source": [
    "import numpy  as np\n",
    "import pandas as pd\n",
    "import matplotlib.pyplot as plt\n",
    "data = pd.read_csv('SBIN.NS.csv')"
   ]
  },
  {
   "cell_type": "code",
   "execution_count": 2,
   "metadata": {},
   "outputs": [
    {
     "data": {
      "text/html": [
       "<div>\n",
       "<style scoped>\n",
       "    .dataframe tbody tr th:only-of-type {\n",
       "        vertical-align: middle;\n",
       "    }\n",
       "\n",
       "    .dataframe tbody tr th {\n",
       "        vertical-align: top;\n",
       "    }\n",
       "\n",
       "    .dataframe thead th {\n",
       "        text-align: right;\n",
       "    }\n",
       "</style>\n",
       "<table border=\"1\" class=\"dataframe\">\n",
       "  <thead>\n",
       "    <tr style=\"text-align: right;\">\n",
       "      <th></th>\n",
       "      <th>Date</th>\n",
       "      <th>Open</th>\n",
       "      <th>High</th>\n",
       "      <th>Low</th>\n",
       "      <th>Close</th>\n",
       "      <th>Adj Close</th>\n",
       "      <th>Volume</th>\n",
       "    </tr>\n",
       "  </thead>\n",
       "  <tbody>\n",
       "    <tr>\n",
       "      <th>61</th>\n",
       "      <td>2020-09-24</td>\n",
       "      <td>181.100006</td>\n",
       "      <td>181.800003</td>\n",
       "      <td>175.500000</td>\n",
       "      <td>176.350006</td>\n",
       "      <td>176.350006</td>\n",
       "      <td>46114798</td>\n",
       "    </tr>\n",
       "    <tr>\n",
       "      <th>62</th>\n",
       "      <td>2020-09-25</td>\n",
       "      <td>179.000000</td>\n",
       "      <td>182.750000</td>\n",
       "      <td>176.149994</td>\n",
       "      <td>182.199997</td>\n",
       "      <td>182.199997</td>\n",
       "      <td>46550127</td>\n",
       "    </tr>\n",
       "    <tr>\n",
       "      <th>63</th>\n",
       "      <td>2020-09-28</td>\n",
       "      <td>184.000000</td>\n",
       "      <td>188.149994</td>\n",
       "      <td>183.350006</td>\n",
       "      <td>187.250000</td>\n",
       "      <td>187.250000</td>\n",
       "      <td>41921548</td>\n",
       "    </tr>\n",
       "    <tr>\n",
       "      <th>64</th>\n",
       "      <td>2020-09-29</td>\n",
       "      <td>188.500000</td>\n",
       "      <td>188.949997</td>\n",
       "      <td>183.250000</td>\n",
       "      <td>185.050003</td>\n",
       "      <td>185.050003</td>\n",
       "      <td>35688726</td>\n",
       "    </tr>\n",
       "    <tr>\n",
       "      <th>65</th>\n",
       "      <td>2020-09-30</td>\n",
       "      <td>185.050003</td>\n",
       "      <td>186.800003</td>\n",
       "      <td>182.399994</td>\n",
       "      <td>185.399994</td>\n",
       "      <td>185.399994</td>\n",
       "      <td>37641083</td>\n",
       "    </tr>\n",
       "  </tbody>\n",
       "</table>\n",
       "</div>"
      ],
      "text/plain": [
       "          Date        Open        High         Low       Close   Adj Close  \\\n",
       "61  2020-09-24  181.100006  181.800003  175.500000  176.350006  176.350006   \n",
       "62  2020-09-25  179.000000  182.750000  176.149994  182.199997  182.199997   \n",
       "63  2020-09-28  184.000000  188.149994  183.350006  187.250000  187.250000   \n",
       "64  2020-09-29  188.500000  188.949997  183.250000  185.050003  185.050003   \n",
       "65  2020-09-30  185.050003  186.800003  182.399994  185.399994  185.399994   \n",
       "\n",
       "      Volume  \n",
       "61  46114798  \n",
       "62  46550127  \n",
       "63  41921548  \n",
       "64  35688726  \n",
       "65  37641083  "
      ]
     },
     "execution_count": 2,
     "metadata": {},
     "output_type": "execute_result"
    }
   ],
   "source": [
    "data.tail()"
   ]
  },
  {
   "cell_type": "code",
   "execution_count": 3,
   "metadata": {
    "scrolled": true
   },
   "outputs": [
    {
     "name": "stdout",
     "output_type": "stream",
     "text": [
      "mu = 2.981e-04\t sigma^2 = 4.965e-04\n",
      "\n",
      "Date   \t Expect\t  Real\t  Error\n",
      "-----------------------------------\n",
      "Oct 7 \t 185.40\t 190.70\t 2.78 %\n",
      "Oct 14\t 185.99\t 200.05\t 7.03 %\n",
      "Oct 21\t 186.57\t 203.75\t 8.43 %\n"
     ]
    },
    {
     "data": {
      "image/png": "[encoded data removed]",
      "text/plain": [
       "<Figure size 432x288 with 1 Axes>"
      ]
     },
     "metadata": {
      "needs_background": "light"
     },
     "output_type": "display_data"
    }
   ],
   "source": [
    "NUM_SIMS = 1000\n",
    "\n",
    "def predict(prices, time, num_sims):\n",
    "    prices = np.array(prices)\n",
    "    us = np.log(prices[1:]/prices[:-1]) \n",
    "    n = len(prices) - 1\n",
    "    Eu = sum(us)/float(n)\n",
    "    sigma2 = np.sum((us - Eu)**2)/(n-1)\n",
    "    mu = Eu + sigma2/2.0\n",
    "    \n",
    "    print(f'mu = {mu:.3e}\\t sigma^2 = {sigma2:.3e}')\n",
    "    \n",
    "    predictions = []\n",
    "    for _ in range(num_sims):\n",
    "        pred = []\n",
    "        lS = prices[-1]\n",
    "        for i in range(time):\n",
    "            S = lS * np.exp((mu - sigma2/2) + np.sqrt(sigma2)*np.random.normal())\n",
    "            pred.append(S)\n",
    "            lS = S\n",
    "        predictions.append(pred)\n",
    "        \n",
    "    predictions = np.array(predictions)\n",
    "    predictions = np.mean(predictions, axis=0)\n",
    "    return predictions\n",
    "\n",
    "prices = data['Close'].to_numpy()\n",
    "plt.plot(range(len(prices)), prices, 'k')\n",
    "\n",
    "# gives average prediction for `num_sims` simulations\n",
    "pred = predict(prices, time = 30, num_sims = NUM_SIMS)\n",
    "\n",
    "\n",
    "plt.plot(range(len(prices), len(prices) + len(pred)), pred, 'k--')\n",
    "plt.title(f'Mean of {NUM_SIMS} simulations')\n",
    "\n",
    "# actual values \n",
    "# oct 7     190.70\n",
    "# oct 14    200.05\n",
    "# oct 21    203.75\n",
    "\n",
    "actual = {6 : 190.70, 13: 200.05, 20: 203.75}\n",
    "\n",
    "# percentage error\n",
    "print('\\nDate   \\t Expect\\t  Real\\t  Error')\n",
    "print('-'*35)\n",
    "print(f'Oct 7 \\t{pred[6] : .2f}\\t {actual[6] :.2f}\\t {abs(100.0*(pred[6]-actual[6])/actual[6]):.2f} %')\n",
    "print(f'Oct 14\\t{pred[13]: .2f}\\t {actual[13]:.2f}\\t {abs(100.0*(pred[13]-actual[13])/actual[13]):.2f} %')\n",
    "print(f'Oct 21\\t{pred[20]: .2f}\\t {actual[20]:.2f}\\t {abs(100.0*(pred[20]-actual[20])/actual[20]):.2f} %')\n"
   ]
  }
 ],
 "metadata": {
  "kernelspec": {
   "display_name": "Python 3",
   "language": "python",
   "name": "python3"
  },
  "language_info": {
   "codemirror_mode": {
    "name": "ipython",
    "version": 3
   },
   "file_extension": ".py",
   "mimetype": "text/x-python",
   "name": "python",
   "nbconvert_exporter": "python",
   "pygments_lexer": "ipython3",
   "version": "3.8.5"
  }
 },
 "nbformat": 4,
 "nbformat_minor": 4
}
